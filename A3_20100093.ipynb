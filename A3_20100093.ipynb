{
 "cells": [
  {
   "cell_type": "code",
   "execution_count": 136,
   "metadata": {},
   "outputs": [],
   "source": [
    "import pandas as pd\n",
    "import numpy as np\n",
    "import matplotlib.pyplot as plt\n",
    "import seaborn as sns\n",
    "import pickle\n",
    "import matplotlib.pyplot as plot\n",
    "from sklearn.model_selection import train_test_split\n",
    "from sklearn.linear_model import LinearRegression\n",
    "from sklearn.linear_model import LogisticRegression\n",
    "from keras.utils import np_utils\n",
    "from sklearn.metrics import classification_report, confusion_matrix, accuracy_score\n",
    "from sklearn.naive_bayes import MultinomialNB\n",
    "from sklearn import preprocessing \n",
    "from sklearn.metrics import f1_score\n",
    "from sklearn import metrics\n",
    "from sklearn.tree import DecisionTreeClassifier\n",
    "from keras.utils import np_utils\n",
    "from sklearn.preprocessing import label_binarize\n",
    "from itertools import cycle\n",
    "from sklearn.multiclass import OneVsRestClassifier\n",
    "from sklearn.metrics import roc_curve, auc\n",
    "\n",
    "from itertools import cycle, permutations"
   ]
  },
  {
   "cell_type": "code",
   "execution_count": 137,
   "metadata": {},
   "outputs": [],
   "source": [
    "dataset = pd.read_csv(\"car_evaluation.csv\")\n",
    "Y = dataset[\"Decision\"]\n",
    "X = dataset.drop([\"Decision\"], axis = 1)\n",
    "X = X.apply(preprocessing.LabelEncoder().fit_transform)\n"
   ]
  },
  {
   "cell_type": "code",
   "execution_count": 138,
   "metadata": {},
   "outputs": [],
   "source": [
    "columns = list(X.columns)"
   ]
  },
  {
   "cell_type": "code",
   "execution_count": 139,
   "metadata": {},
   "outputs": [],
   "source": [
    "def one_hot(df, cols):\n",
    "    # https://stackoverflow.com/questions/37292872/how-can-i-one-hot-encode-in-python    \n",
    "    \"\"\"\n",
    "    @param df pandas DataFrame\n",
    "    @param cols a list of columns to encode \n",
    "    @return a DataFrame with one-hot encoding\n",
    "    \"\"\"\n",
    "    for each in cols:\n",
    "        dummies = pd.get_dummies(df[each], prefix=each, drop_first=False)\n",
    "        df = pd.concat([df, dummies], axis=1)\n",
    "    return df\n"
   ]
  },
  {
   "cell_type": "code",
   "execution_count": 140,
   "metadata": {},
   "outputs": [],
   "source": [
    "X = one_hot(X,columns)\n"
   ]
  },
  {
   "cell_type": "code",
   "execution_count": 141,
   "metadata": {},
   "outputs": [],
   "source": [
    "xTrain, xTest, yTrain, yTest = train_test_split(X, Y, test_size = 0.3, random_state=0)"
   ]
  },
  {
   "cell_type": "markdown",
   "metadata": {},
   "source": [
    "#  Naive Bayes"
   ]
  },
  {
   "cell_type": "code",
   "execution_count": 142,
   "metadata": {},
   "outputs": [
    {
     "name": "stdout",
     "output_type": "stream",
     "text": [
      "Accuracy is :  81.5028901734104\n"
     ]
    }
   ],
   "source": [
    "clf = MultinomialNB()\n",
    "clf.fit(xTrain, yTrain)\n",
    "print(\"Accuracy is : \", clf.score(xTest,yTest)*100)\n"
   ]
  },
  {
   "cell_type": "code",
   "execution_count": 143,
   "metadata": {},
   "outputs": [],
   "source": [
    "ypred = clf.predict(xTest)"
   ]
  },
  {
   "cell_type": "code",
   "execution_count": 144,
   "metadata": {},
   "outputs": [
    {
     "name": "stdout",
     "output_type": "stream",
     "text": [
      "F1 score is (micro) =  0.815028901734104\n",
      "F1 score is (macro) =  0.6316085513229295\n"
     ]
    }
   ],
   "source": [
    "F1_s = f1_score(yTest, ypred, average='micro')\n",
    "print(\"F1 score is (micro) = \", F1_s)\n",
    "F1_s = f1_score(yTest, ypred, average='macro')\n",
    "print(\"F1 score is (macro) = \", F1_s)"
   ]
  },
  {
   "cell_type": "code",
   "execution_count": 145,
   "metadata": {},
   "outputs": [
    {
     "name": "stdout",
     "output_type": "stream",
     "text": [
      "[[ 74   8  31   2]\n",
      " [ 15   4   2   4]\n",
      " [ 32   0 331   0]\n",
      " [  2   0   0  14]]\n"
     ]
    }
   ],
   "source": [
    "print(confusion_matrix(yTest, ypred))"
   ]
  },
  {
   "cell_type": "code",
   "execution_count": 146,
   "metadata": {},
   "outputs": [],
   "source": [
    "# Source google,scikit-learn\n",
    "def compute_ROC(clf, X, Y):\n",
    "    X = X.to_numpy()\n",
    "    Y = Y.to_numpy()\n",
    "    Y = label_binarize(Y, classes=['unacc', 'acc', 'good', 'vgood'])\n",
    "\n",
    "    x_Train, x_Test, y_Train, y_Test = train_test_split(X, Y, test_size=0.2,\n",
    "                                                    random_state=1)\n",
    "# ROC Curve\n",
    "    one_vs_all = OneVsRestClassifier(clf)\n",
    "    y_Score = one_vs_all.fit(x_Train, y_Train).predict_proba(x_Test)\n",
    "    \n",
    "#  Compute ROC curve and ROC area for each class\n",
    "    fpr = dict()\n",
    "    tpr = dict()\n",
    "    roc_auc = dict()\n",
    "    for i in range(4):\n",
    "        fpr[i], tpr[i], _ = roc_curve(y_Test[:, i], y_Score[:, i])\n",
    "        roc_auc[i] = auc(fpr[i], tpr[i])\n",
    "\n",
    "    # Compute micro-average ROC curve and ROC area\n",
    "    fpr[\"micro\"], tpr[\"micro\"], _ = roc_curve(y_Test.ravel(), y_Score.ravel())\n",
    "    roc_auc[\"micro\"] = auc(fpr[\"micro\"], tpr[\"micro\"])\n",
    "\n",
    "    plt.figure()\n",
    "\n",
    "    colors = cycle(['aqua', 'darkorange', 'cornflowerblue'])\n",
    "    for i, color in zip(range(4), colors):\n",
    "        plt.plot(fpr[i], tpr[i], color=color, lw=2,\n",
    "                 label='ROC curve of class {0} (area = {1:0.2f})'\n",
    "                 ''.format(i, roc_auc[i]))\n",
    "    plt.plot([0, 1], [0, 1], 'k--', lw=2)\n",
    "    plt.xlim([0.0, 1.0])\n",
    "    plt.ylim([0.0, 1.05])\n",
    "    plt.xlabel('False Positive Rate')\n",
    "    plt.ylabel('True Positive Rate')\n",
    "    plt.title('Some extension of Receiver operating characteristic to multi-class')\n",
    "    plt.legend(loc=\"lower right\")\n",
    "    plt.show()"
   ]
  },
  {
   "cell_type": "code",
   "execution_count": 147,
   "metadata": {},
   "outputs": [
    {
     "data": {
      "image/png": "[encoded data removed]",
      "text/plain": [
       "<Figure size 432x288 with 1 Axes>"
      ]
     },
     "metadata": {
      "needs_background": "light"
     },
     "output_type": "display_data"
    }
   ],
   "source": [
    "compute_ROC(clf, X, Y)"
   ]
  },
  {
   "cell_type": "markdown",
   "metadata": {},
   "source": [
    "#  Decision Tree"
   ]
  },
  {
   "cell_type": "code",
   "execution_count": 148,
   "metadata": {},
   "outputs": [],
   "source": [
    "clf = DecisionTreeClassifier(random_state=0,criterion=\"gini\")"
   ]
  },
  {
   "cell_type": "code",
   "execution_count": 149,
   "metadata": {},
   "outputs": [
    {
     "name": "stdout",
     "output_type": "stream",
     "text": [
      "Accuracy is :  95.18304431599229\n"
     ]
    }
   ],
   "source": [
    "clf.fit(xTrain, yTrain)\n",
    "print(\"Accuracy is : \", clf.score(xTest,yTest)*100)\n"
   ]
  },
  {
   "cell_type": "code",
   "execution_count": 150,
   "metadata": {},
   "outputs": [],
   "source": [
    "ypred = clf.predict(xTest)"
   ]
  },
  {
   "cell_type": "code",
   "execution_count": 151,
   "metadata": {},
   "outputs": [
    {
     "name": "stdout",
     "output_type": "stream",
     "text": [
      "F1 score is (micro) =  0.9518304431599229\n",
      "F1 score is (macro) =  0.9017987153398398\n"
     ]
    }
   ],
   "source": [
    "F1_s = f1_score(yTest, ypred, average='micro')\n",
    "print(\"F1 score is (micro) = \", F1_s)\n",
    "F1_s = f1_score(yTest, ypred, average='macro')\n",
    "print(\"F1 score is (macro) = \", F1_s)"
   ]
  },
  {
   "cell_type": "code",
   "execution_count": 152,
   "metadata": {},
   "outputs": [
    {
     "name": "stdout",
     "output_type": "stream",
     "text": [
      "[[101   5   8   1]\n",
      " [  3  21   0   1]\n",
      " [  6   0 357   0]\n",
      " [  1   0   0  15]]\n"
     ]
    }
   ],
   "source": [
    "print(confusion_matrix(yTest, ypred))"
   ]
  },
  {
   "cell_type": "code",
   "execution_count": 153,
   "metadata": {},
   "outputs": [],
   "source": [
    "# ROC Code goes here\n",
    "from sklearn.preprocessing import label_binarize\n",
    "from sklearn.metrics import roc_curve, auc\n",
    "from sklearn.multiclass import OneVsRestClassifier\n"
   ]
  },
  {
   "cell_type": "code",
   "execution_count": 154,
   "metadata": {},
   "outputs": [
    {
     "data": {
      "image/png": "[encoded data removed]",
      "text/plain": [
       "<Figure size 432x288 with 1 Axes>"
      ]
     },
     "metadata": {
      "needs_background": "light"
     },
     "output_type": "display_data"
    }
   ],
   "source": [
    "compute_ROC(clf, X, Y)"
   ]
  },
  {
   "cell_type": "markdown",
   "metadata": {},
   "source": [
    "#  K means Cluster"
   ]
  },
  {
   "cell_type": "code",
   "execution_count": 155,
   "metadata": {},
   "outputs": [],
   "source": [
    "from sklearn.cluster import KMeans\n"
   ]
  },
  {
   "cell_type": "code",
   "execution_count": 156,
   "metadata": {},
   "outputs": [],
   "source": [
    "dataset = pd.read_csv(\"car_evaluation.csv\")\n",
    "Y = dataset[\"Decision\"]\n",
    "X = dataset.drop([\"Decision\"], axis = 1)\n",
    "X = X.apply(preprocessing.LabelEncoder().fit_transform)\n",
    "X = one_hot(X,columns)\n"
   ]
  },
  {
   "cell_type": "code",
   "execution_count": 157,
   "metadata": {},
   "outputs": [],
   "source": [
    "X  = X.to_numpy()\n",
    "Y = Y.to_numpy()"
   ]
  },
  {
   "cell_type": "code",
   "execution_count": 158,
   "metadata": {},
   "outputs": [],
   "source": [
    "def DictWC(Poss):\n",
    "    Full = []\n",
    "    for P in Poss:\n",
    "        ind = {}\n",
    "        for i , label in enumerate(P):\n",
    "            ind[label] =i \n",
    "        Full.append(ind)\n",
    "    return Full"
   ]
  },
  {
   "cell_type": "code",
   "execution_count": 159,
   "metadata": {},
   "outputs": [],
   "source": [
    "def getPred(comb,Y):\n",
    "    lst =[]\n",
    "    for yi in Y:\n",
    "        lst.append(comb[yi])       \n",
    "    return np.array(lst)\n",
    "        "
   ]
  },
  {
   "cell_type": "code",
   "execution_count": 160,
   "metadata": {},
   "outputs": [],
   "source": [
    "def FindAcc(Dic,Y, Kboys):\n",
    "    localacc = -1\n",
    "    for comb in Dic:\n",
    "        Ypred = getPred(comb,Y)\n",
    "        accuracy = accuracy_score(Ypred,Kboys)\n",
    "        if accuracy > localacc:\n",
    "            localacc = accuracy\n",
    "            \n",
    "    return localacc"
   ]
  },
  {
   "cell_type": "code",
   "execution_count": 161,
   "metadata": {},
   "outputs": [
    {
     "name": "stdout",
     "output_type": "stream",
     "text": [
      "Accuracy is with 1 cluster =  70.02314814814815\n"
     ]
    }
   ],
   "source": [
    "kmeans = KMeans(n_clusters = 1)\n",
    "kmeans.fit(X)\n",
    "labels = kmeans.labels_\n",
    "\n",
    "Uniquelabels = np.unique(Y)\n",
    "AllPos = permutations(Uniquelabels)\n",
    "Dic = DictWC(AllPos)\n",
    "# print(Dic)\n",
    "print(\"Accuracy is with 1 cluster = \" ,FindAcc(Dic,Y,labels)*100)"
   ]
  },
  {
   "cell_type": "code",
   "execution_count": 162,
   "metadata": {},
   "outputs": [
    {
     "name": "stdout",
     "output_type": "stream",
     "text": [
      "Accuracy is with 2 cluster =  47.74305555555556\n"
     ]
    }
   ],
   "source": [
    "kmeans = KMeans(n_clusters = 2)\n",
    "kmeans.fit(X)\n",
    "labels = kmeans.labels_\n",
    "\n",
    "Uniquelabels = np.unique(Y)\n",
    "AllPos = permutations(Uniquelabels)\n",
    "Dic = DictWC(AllPos)\n",
    "# print(Dic)\n",
    "print(\"Accuracy is with 2 cluster = \" ,FindAcc(Dic,Y,labels)*100)"
   ]
  },
  {
   "cell_type": "code",
   "execution_count": 163,
   "metadata": {},
   "outputs": [
    {
     "name": "stdout",
     "output_type": "stream",
     "text": [
      "Accuracy is with 3 cluster =  34.83796296296296\n"
     ]
    }
   ],
   "source": [
    "kmeans = KMeans(n_clusters = 3)\n",
    "kmeans.fit(X)\n",
    "labels = kmeans.labels_\n",
    "\n",
    "Uniquelabels = np.unique(Y)\n",
    "AllPos = permutations(Uniquelabels)\n",
    "Dic = DictWC(AllPos)\n",
    "# print(Dic)\n",
    "print(\"Accuracy is with 3 cluster = \" ,FindAcc(Dic,Y,labels)*100)"
   ]
  },
  {
   "cell_type": "code",
   "execution_count": 164,
   "metadata": {},
   "outputs": [
    {
     "name": "stdout",
     "output_type": "stream",
     "text": [
      "Accuracy is with 4 cluster =  28.182870370370374\n"
     ]
    }
   ],
   "source": [
    "kmeans = KMeans(n_clusters = 4)\n",
    "kmeans.fit(X)\n",
    "labels = kmeans.labels_\n",
    "\n",
    "Uniquelabels = np.unique(Y)\n",
    "AllPos = permutations(Uniquelabels)\n",
    "Dic = DictWC(AllPos)\n",
    "# print(Dic)\n",
    "print(\"Accuracy is with 4 cluster = \" ,FindAcc(Dic,Y,labels)*100)"
   ]
  },
  {
   "cell_type": "code",
   "execution_count": 165,
   "metadata": {},
   "outputs": [
    {
     "data": {
      "image/png": "[encoded data removed]",
      "text/plain": [
       "<Figure size 432x288 with 1 Axes>"
      ]
     },
     "metadata": {
      "needs_background": "light"
     },
     "output_type": "display_data"
    }
   ],
   "source": [
    "centers = kmeans.cluster_centers_\n",
    "plt.scatter(centers[:, 0], centers[:, 1], c='black', s=200, alpha=0.5);\n"
   ]
  },
  {
   "cell_type": "markdown",
   "metadata": {},
   "source": [
    "We cannot visualize this data as TOO many attributes are visible but we can show the centroids of the data. The accuracy is 28 percent which is very low.\n",
    "\n",
    "As you can see, the accuracy drops RAPIDLY when clusters are increased. The reason being, the data is HIGHLY Favourable to some classes and not enough instances of the other classes exist. This can be seen in the data as well. Class 1 and 3 are present way more, hence a bias exists"
   ]
  },
  {
   "cell_type": "code",
   "execution_count": null,
   "metadata": {},
   "outputs": [],
   "source": []
  },
  {
   "cell_type": "code",
   "execution_count": null,
   "metadata": {},
   "outputs": [],
   "source": []
  }
 ],
 "metadata": {
  "kernelspec": {
   "display_name": "Python 3",
   "language": "python",
   "name": "python3"
  },
  "language_info": {
   "codemirror_mode": {
    "name": "ipython",
    "version": 3
   },
   "file_extension": ".py",
   "mimetype": "text/x-python",
   "name": "python",
   "nbconvert_exporter": "python",
   "pygments_lexer": "ipython3",
   "version": "3.6.8"
  }
 },
 "nbformat": 4,
 "nbformat_minor": 2
}
