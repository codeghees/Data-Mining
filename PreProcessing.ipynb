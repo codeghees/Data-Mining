{
 "cells": [
  {
   "cell_type": "markdown",
   "metadata": {},
   "source": [
    "# Report\n"
   ]
  },
  {
   "cell_type": "markdown",
   "metadata": {},
   "source": [
    "This file carries out the basic preparation of data from the csv files.\n",
    "We create a SINGLE dataframe that combines ALL the datafiles in order to avoid the hassle of preparing everything separately.\n",
    "We identify the fact that we are supposed to predict the reorder variable, that is whether a specific product will be reordered or not. \n",
    "After combining the data frame, we drop certain attributes such as evalset since they offer no pertinent information to our relevant prediction. Product name is also dropped because it is redundant with product ID.\n",
    "\n",
    "\n",
    "After preparing the dataset, we want to select the best attributes to use from our data and for this we use KBest feature mapping.\n",
    "It uses ANOVA testing and sorts according to the highest K-value.\n",
    "Our best attributes are = ['order_number', 'add_to_cart_order', 'department_id', 'days_since_prior_order', 'order_hour_of_day', 'order_dow', 'product_id', 'aisle_id']\n"
   ]
  },
  {
   "cell_type": "code",
   "execution_count": 1,
   "metadata": {},
   "outputs": [
    {
     "name": "stderr",
     "output_type": "stream",
     "text": [
      "Using TensorFlow backend.\n"
     ]
    }
   ],
   "source": [
    "import pandas as pd\n",
    "import numpy as np\n",
    "import matplotlib.pyplot as plt\n",
    "import seaborn as sns\n",
    "import pickle\n",
    "import matplotlib.pyplot as plot\n",
    "from sklearn.model_selection import train_test_split\n",
    "from sklearn.linear_model import LinearRegression\n",
    "from sklearn.linear_model import LogisticRegression\n",
    "from keras.utils import np_utils\n"
   ]
  },
  {
   "cell_type": "code",
   "execution_count": 2,
   "metadata": {},
   "outputs": [],
   "source": [
    "order_prior = pd.read_csv(\"order_products__prior.csv\")"
   ]
  },
  {
   "cell_type": "code",
   "execution_count": 3,
   "metadata": {},
   "outputs": [
    {
     "name": "stdout",
     "output_type": "stream",
     "text": [
      "        order_id  user_id eval_set  order_number  order_dow  \\\n",
      "0        2539329        1    prior             1          2   \n",
      "1        2398795        1    prior             2          3   \n",
      "2         473747        1    prior             3          3   \n",
      "3        2254736        1    prior             4          4   \n",
      "4         431534        1    prior             5          4   \n",
      "5        3367565        1    prior             6          2   \n",
      "6         550135        1    prior             7          1   \n",
      "7        3108588        1    prior             8          1   \n",
      "8        2295261        1    prior             9          1   \n",
      "9        2550362        1    prior            10          4   \n",
      "10       1187899        1    train            11          4   \n",
      "11       2168274        2    prior             1          2   \n",
      "12       1501582        2    prior             2          5   \n",
      "13       1901567        2    prior             3          1   \n",
      "14        738281        2    prior             4          2   \n",
      "15       1673511        2    prior             5          3   \n",
      "16       1199898        2    prior             6          2   \n",
      "17       3194192        2    prior             7          2   \n",
      "18        788338        2    prior             8          1   \n",
      "19       1718559        2    prior             9          2   \n",
      "20       1447487        2    prior            10          1   \n",
      "21       1402090        2    prior            11          1   \n",
      "22       3186735        2    prior            12          1   \n",
      "23       3268552        2    prior            13          4   \n",
      "24        839880        2    prior            14          3   \n",
      "25       1492625        2    train            15          1   \n",
      "26       1374495        3    prior             1          1   \n",
      "27        444309        3    prior             2          3   \n",
      "28       3002854        3    prior             3          3   \n",
      "29       2037211        3    prior             4          2   \n",
      "...          ...      ...      ...           ...        ...   \n",
      "999970   3070583    60078    prior             6          2   \n",
      "999971   2093728    60078    prior             7          2   \n",
      "999972    789684    60078    prior             8          3   \n",
      "999973   2674122    60078    prior             9          3   \n",
      "999974    501375    60078    prior            10          1   \n",
      "999975   2645093    60078    prior            11          5   \n",
      "999976   1608342    60078    prior            12          1   \n",
      "999977   2355224    60078    prior            13          3   \n",
      "999978   2691567    60078    prior            14          5   \n",
      "999979   2364323    60078    prior            15          1   \n",
      "999980   1686854    60078    prior            16          1   \n",
      "999981   2735682    60078    prior            17          2   \n",
      "999982     27561    60078    prior            18          1   \n",
      "999983   1603947    60078    prior            19          5   \n",
      "999984   2175908    60078    prior            20          1   \n",
      "999985   3367437    60078    prior            21          4   \n",
      "999986   1886245    60078    prior            22          3   \n",
      "999987   2583350    60078    prior            23          2   \n",
      "999988    846547    60078    prior            24          1   \n",
      "999989   3236163    60078    prior            25          5   \n",
      "999990   1291838    60078    prior            26          1   \n",
      "999991    123478    60078    prior            27          5   \n",
      "999992   1901996    60078    prior            28          1   \n",
      "999993   3215269    60078    prior            29          5   \n",
      "999994   2162937    60078    prior            30          5   \n",
      "999995   1999510    60078    prior            31          2   \n",
      "999996    144910    60078    prior            32          3   \n",
      "999997   2885491    60078    prior            33          1   \n",
      "999998   1871936    60078    prior            34          4   \n",
      "999999    836599    60078    prior            35          1   \n",
      "\n",
      "        order_hour_of_day  days_since_prior_order  \n",
      "0                       8                     NaN  \n",
      "1                       7                    15.0  \n",
      "2                      12                    21.0  \n",
      "3                       7                    29.0  \n",
      "4                      15                    28.0  \n",
      "5                       7                    19.0  \n",
      "6                       9                    20.0  \n",
      "7                      14                    14.0  \n",
      "8                      16                     0.0  \n",
      "9                       8                    30.0  \n",
      "10                      8                    14.0  \n",
      "11                     11                     NaN  \n",
      "12                     10                    10.0  \n",
      "13                     10                     3.0  \n",
      "14                     10                     8.0  \n",
      "15                     11                     8.0  \n",
      "16                      9                    13.0  \n",
      "17                     12                    14.0  \n",
      "18                     15                    27.0  \n",
      "19                      9                     8.0  \n",
      "20                     11                     6.0  \n",
      "21                     10                    30.0  \n",
      "22                      9                    28.0  \n",
      "23                     11                    30.0  \n",
      "24                     10                    13.0  \n",
      "25                     11                    30.0  \n",
      "26                     14                     NaN  \n",
      "27                     19                     9.0  \n",
      "28                     16                    21.0  \n",
      "29                     18                    20.0  \n",
      "...                   ...                     ...  \n",
      "999970                 13                     8.0  \n",
      "999971                 11                    30.0  \n",
      "999972                  9                    15.0  \n",
      "999973                 12                     0.0  \n",
      "999974                 12                     5.0  \n",
      "999975                  9                     4.0  \n",
      "999976                 13                    10.0  \n",
      "999977                 11                     9.0  \n",
      "999978                 11                     9.0  \n",
      "999979                 16                    10.0  \n",
      "999980                 14                    21.0  \n",
      "999981                 13                     1.0  \n",
      "999982                 14                    13.0  \n",
      "999983                 22                    18.0  \n",
      "999984                 14                    10.0  \n",
      "999985                 16                     3.0  \n",
      "999986                 11                     6.0  \n",
      "999987                 13                     6.0  \n",
      "999988                 11                     6.0  \n",
      "999989                 16                     4.0  \n",
      "999990                 10                     3.0  \n",
      "999991                 12                     4.0  \n",
      "999992                 14                     3.0  \n",
      "999993                 15                    11.0  \n",
      "999994                 12                     7.0  \n",
      "999995                 16                    11.0  \n",
      "999996                 10                     8.0  \n",
      "999997                 14                     5.0  \n",
      "999998                 16                     3.0  \n",
      "999999                 13                    18.0  \n",
      "\n",
      "[1000000 rows x 7 columns]\n"
     ]
    }
   ],
   "source": [
    "orders = pd.read_csv(\"orders.csv\")\n",
    "orders = orders.iloc[:1000000]\n",
    "print(orders)"
   ]
  },
  {
   "cell_type": "code",
   "execution_count": 4,
   "metadata": {},
   "outputs": [],
   "source": [
    "products = pd.read_csv(\"products.csv\")"
   ]
  },
  {
   "cell_type": "code",
   "execution_count": 5,
   "metadata": {},
   "outputs": [],
   "source": [
    "order_prior = order_prior.merge(orders)"
   ]
  },
  {
   "cell_type": "code",
   "execution_count": 6,
   "metadata": {},
   "outputs": [
    {
     "data": {
      "text/plain": [
       "Index(['order_id', 'product_id', 'add_to_cart_order', 'reordered', 'user_id',\n",
       "       'eval_set', 'order_number', 'order_dow', 'order_hour_of_day',\n",
       "       'days_since_prior_order'],\n",
       "      dtype='object')"
      ]
     },
     "execution_count": 6,
     "metadata": {},
     "output_type": "execute_result"
    }
   ],
   "source": [
    "order_prior.keys()"
   ]
  },
  {
   "cell_type": "code",
   "execution_count": 7,
   "metadata": {},
   "outputs": [],
   "source": [
    "order_prior = order_prior.merge(products)"
   ]
  },
  {
   "cell_type": "code",
   "execution_count": 8,
   "metadata": {},
   "outputs": [
    {
     "data": {
      "text/plain": [
       "Index(['order_id', 'product_id', 'add_to_cart_order', 'reordered', 'user_id',\n",
       "       'eval_set', 'order_number', 'order_dow', 'order_hour_of_day',\n",
       "       'days_since_prior_order', 'product_name', 'aisle_id', 'department_id'],\n",
       "      dtype='object')"
      ]
     },
     "execution_count": 8,
     "metadata": {},
     "output_type": "execute_result"
    }
   ],
   "source": [
    "order_prior.keys()"
   ]
  },
  {
   "cell_type": "code",
   "execution_count": 22,
   "metadata": {},
   "outputs": [
    {
     "name": "stdout",
     "output_type": "stream",
     "text": [
      "         order_id  product_id  add_to_cart_order  user_id  order_number  \\\n",
      "0               6       40462                  1    22352             4   \n",
      "1           15854       40462                  2     5374             7   \n",
      "2           21553       40462                  1    31136            13   \n",
      "3           59858       40462                  1    59606             4   \n",
      "4          119328       40462                  1     1409             4   \n",
      "5          138567       40462                  1    57161            11   \n",
      "6          143326       40462                  1    57882             5   \n",
      "7          208931       40462                  1     7137             4   \n",
      "8          270044       40462                  1    42843             3   \n",
      "9          290017       40462                  6    29836             5   \n",
      "10         424301       40462                  1    31136             7   \n",
      "11         432041       40462                  3    53624             3   \n",
      "12         455382       40462                 20    33665             2   \n",
      "13         457355       40462                  4    38375             5   \n",
      "14         491888       40462                 16    28499            15   \n",
      "15         547694       40462                  1    12474             2   \n",
      "16         586528       40462                  1     7137             1   \n",
      "17         604772       40462                  1    12129            12   \n",
      "18         663312       40462                  1    57161            26   \n",
      "19         665264       40462                  1     3503             6   \n",
      "20         702904       40462                  2    12922            20   \n",
      "21         758693       40462                  2     5374             4   \n",
      "22         832528       40462                  1     9132             6   \n",
      "23         847291       40462                  1    16863             2   \n",
      "24         865454       40462                 11    20032             7   \n",
      "25         944894       40462                  2     4676             1   \n",
      "26        1059521       40462                  1    57161            31   \n",
      "27        1074579       40462                  3    40863             4   \n",
      "28        1121594       40462                  1    59606             6   \n",
      "29        1124403       40462                  1    57161             5   \n",
      "...           ...         ...                ...      ...           ...   \n",
      "9462235   3387901        6365                  6    54756             3   \n",
      "9462236   3390388        1355                  9    53280            18   \n",
      "9462237   3390388       32997                 12    53280            18   \n",
      "9462238   3390883         815                 19     4623             6   \n",
      "9462239   3391908       15624                  4    48646             2   \n",
      "9462240   3392075       14487                  5     8365            47   \n",
      "9462241   3392113       40773                  2    38236            16   \n",
      "9462242   3393469        5352                  4     9628            11   \n",
      "9462243   3395221       43548                  3    44664             9   \n",
      "9462244   3396751       40103                  7    54770            11   \n",
      "9462245   3398933       28712                  2    41344             7   \n",
      "9462246   3401151       47230                 12    58306             9   \n",
      "9462247   3401271       29595                  1    58886             2   \n",
      "9462248   3420118       29595                  8    44569             2   \n",
      "9462249   3402425       41288                  4    59979            75   \n",
      "9462250   3403856       14930                 29    13758             1   \n",
      "9462251   3405965        6804                 16     9517             4   \n",
      "9462252   3408583        2074                  9    17484             4   \n",
      "9462253   3408732        3210                  7    20586             2   \n",
      "9462254   3411400       24417                  6    48694            31   \n",
      "9462255   3412070       46555                 14    37659             2   \n",
      "9462256   3415570       10940                  5     4301             2   \n",
      "9462257   3416579       38356                  7    52373             4   \n",
      "9462258   3416697       11566                 12    58524             5   \n",
      "9462259   3416727       40296                  5    49463            21   \n",
      "9462260   3417021       30889                  6    40654             3   \n",
      "9462261   3417470        8701                  2    27344            16   \n",
      "9462262   3419965       17113                  5    25229             2   \n",
      "9462263   3420187       11769                 17    26485             5   \n",
      "9462264   3420767       47233                  8    57683             3   \n",
      "\n",
      "         order_dow  order_hour_of_day  days_since_prior_order  aisle_id  \\\n",
      "0                1                 12                    30.0        31   \n",
      "1                6                  7                     3.0        31   \n",
      "2                1                 13                    25.0        31   \n",
      "3                1                 19                    15.0        31   \n",
      "4                1                 17                     9.0        31   \n",
      "5                3                  9                     1.0        31   \n",
      "6                0                 21                    30.0        31   \n",
      "7                2                  9                     6.0        31   \n",
      "8                2                 10                     3.0        31   \n",
      "9                4                 15                    30.0        31   \n",
      "10               2                 11                    12.0        31   \n",
      "11               4                 16                    30.0        31   \n",
      "12               0                 19                     7.0        31   \n",
      "13               1                  9                    27.0        31   \n",
      "14               2                  8                     6.0        31   \n",
      "15               2                 20                     7.0        31   \n",
      "16               4                 18                     0.0        31   \n",
      "17               0                 13                     3.0        31   \n",
      "18               6                 16                     3.0        31   \n",
      "19               6                 18                     9.0        31   \n",
      "20               4                  9                     8.0        31   \n",
      "21               5                  9                     5.0        31   \n",
      "22               2                 19                    22.0        31   \n",
      "23               1                 11                    20.0        31   \n",
      "24               6                  9                    20.0        31   \n",
      "25               0                 13                     0.0        31   \n",
      "26               2                 23                     0.0        31   \n",
      "27               5                 10                    20.0        31   \n",
      "28               1                  7                     3.0        31   \n",
      "29               6                 14                     2.0        31   \n",
      "...            ...                ...                     ...       ...   \n",
      "9462235          4                 15                     9.0       132   \n",
      "9462236          6                 14                     9.0       101   \n",
      "9462237          6                 14                     9.0        26   \n",
      "9462238          2                 14                    12.0        64   \n",
      "9462239          0                 13                    20.0       104   \n",
      "9462240          3                  4                     2.0        19   \n",
      "9462241          4                 20                     8.0       100   \n",
      "9462242          1                 11                     6.0        87   \n",
      "9462243          5                 21                     6.0        40   \n",
      "9462244          3                 15                    16.0        98   \n",
      "9462245          6                 14                    13.0        47   \n",
      "9462246          4                 15                     7.0        26   \n",
      "9462247          1                 15                    19.0        90   \n",
      "9462248          2                 15                     4.0        90   \n",
      "9462249          4                 11                     3.0        94   \n",
      "9462250          0                 20                     0.0       130   \n",
      "9462251          6                 19                    10.0       109   \n",
      "9462252          5                 16                    19.0        78   \n",
      "9462253          3                  9                    30.0       120   \n",
      "9462254          2                 11                     8.0        65   \n",
      "9462255          2                 19                    16.0        74   \n",
      "9462256          3                 18                    30.0        79   \n",
      "9462257          4                 10                     7.0         4   \n",
      "9462258          0                 12                    11.0        69   \n",
      "9462259          3                  6                     6.0       104   \n",
      "9462260          4                 22                     3.0        95   \n",
      "9462261          0                 18                     1.0        63   \n",
      "9462262          5                 23                     4.0        40   \n",
      "9462263          1                 12                    30.0        30   \n",
      "9462264          6                 14                    24.0        45   \n",
      "\n",
      "         department_id  \n",
      "0                    7  \n",
      "1                    7  \n",
      "2                    7  \n",
      "3                    7  \n",
      "4                    7  \n",
      "5                    7  \n",
      "6                    7  \n",
      "7                    7  \n",
      "8                    7  \n",
      "9                    7  \n",
      "10                   7  \n",
      "11                   7  \n",
      "12                   7  \n",
      "13                   7  \n",
      "14                   7  \n",
      "15                   7  \n",
      "16                   7  \n",
      "17                   7  \n",
      "18                   7  \n",
      "19                   7  \n",
      "20                   7  \n",
      "21                   7  \n",
      "22                   7  \n",
      "23                   7  \n",
      "24                   7  \n",
      "25                   7  \n",
      "26                   7  \n",
      "27                   7  \n",
      "28                   7  \n",
      "29                   7  \n",
      "...                ...  \n",
      "9462235             11  \n",
      "9462236             17  \n",
      "9462237              7  \n",
      "9462238              7  \n",
      "9462239             13  \n",
      "9462240             13  \n",
      "9462241             21  \n",
      "9462242             17  \n",
      "9462243              8  \n",
      "9462244              7  \n",
      "9462245             11  \n",
      "9462246              7  \n",
      "9462247              7  \n",
      "9462248              7  \n",
      "9462249              7  \n",
      "9462250             14  \n",
      "9462251             11  \n",
      "9462252             19  \n",
      "9462253             16  \n",
      "9462254             11  \n",
      "9462255             17  \n",
      "9462256              1  \n",
      "9462257              9  \n",
      "9462258             15  \n",
      "9462259             13  \n",
      "9462260             15  \n",
      "9462261              9  \n",
      "9462262              8  \n",
      "9462263              6  \n",
      "9462264             19  \n",
      "\n",
      "[9462265 rows x 10 columns]\n"
     ]
    }
   ],
   "source": [
    "orders = order_prior.copy()\n",
    "reord = order_prior[\"reordered\"]\n",
    "orders = orders.fillna(0)\n",
    "orders = orders.drop([\"reordered\",\"eval_set\",\"product_name\"],axis=1)\n",
    "print(orders)"
   ]
  },
  {
   "cell_type": "markdown",
   "metadata": {},
   "source": [
    "Source for below tab = https://gist.github.com/olgabradford/f04f23692c78fc0beb377894ce5e5e59"
   ]
  },
  {
   "cell_type": "code",
   "execution_count": 24,
   "metadata": {},
   "outputs": [
    {
     "name": "stdout",
     "output_type": "stream",
     "text": [
      "Ranking of features is \n",
      "1 . Score   order_number  is  970805.6672021801\n",
      "2 . Score   add_to_cart_order  is  177015.956502899\n",
      "3 . Score   department_id  is  14074.846143402254\n",
      "4 . Score   days_since_prior_order  is  5312.091992387544\n",
      "5 . Score   order_hour_of_day  is  4640.594450832234\n",
      "6 . Score   order_dow  is  403.1715221922778\n",
      "7 . Score   aisle_id  is  125.13937518414353\n",
      "8 . Score   product_id  is  115.94167431770306\n",
      "9 . Score   order_id  is  11.621544153480675\n",
      "10 . Score   user_id  is  7.9379103280417045\n",
      "['order_id' 'product_id' 'add_to_cart_order' 'user_id' 'order_number'\n",
      " 'order_dow' 'order_hour_of_day' 'days_since_prior_order']\n"
     ]
    }
   ],
   "source": [
    "from sklearn.feature_selection import SelectKBest\n",
    "from sklearn.feature_selection import f_classif\n",
    "skb = SelectKBest(f_classif,k='all').fit(orders,order_prior[\"reordered\"])\n",
    "scores = skb.scores_\n",
    "all_features = orders.columns.values\n",
    "sort_index = np.argsort(scores)[::-1]\n",
    "rank = 1\n",
    "ranked_features = []\n",
    "print (\"Ranking of features is \")\n",
    "for x in sort_index:\n",
    "    print (rank,\". Score  \",all_features[x],\" is \",scores[x])\n",
    "    ranked_features.append(all_features[x])\n",
    "    rank += 1\n"
   ]
  },
  {
   "cell_type": "code",
   "execution_count": 26,
   "metadata": {},
   "outputs": [],
   "source": [
    "BestCol = ['order_number', 'add_to_cart_order', 'department_id', 'days_since_prior_order', 'order_hour_of_day', 'order_dow', 'product_id', 'aisle_id']"
   ]
  },
  {
   "cell_type": "code",
   "execution_count": 33,
   "metadata": {},
   "outputs": [],
   "source": [
    "X = orders[BestCol]\n",
    "Y = reord\n"
   ]
  },
  {
   "cell_type": "code",
   "execution_count": 34,
   "metadata": {},
   "outputs": [],
   "source": [
    "pickle_out = open(\"Input.pickle\",\"wb\")\n",
    "pickle.dump(X, pickle_out)\n",
    "pickle_out.close()"
   ]
  },
  {
   "cell_type": "code",
   "execution_count": 35,
   "metadata": {},
   "outputs": [],
   "source": [
    "pickle_out = open(\"Output.pickle\",\"wb\")\n",
    "pickle.dump(Y, pickle_out)\n",
    "pickle_out.close()"
   ]
  },
  {
   "cell_type": "code",
   "execution_count": null,
   "metadata": {},
   "outputs": [],
   "source": []
  }
 ],
 "metadata": {
  "kernelspec": {
   "display_name": "Python 3",
   "language": "python",
   "name": "python3"
  },
  "language_info": {
   "codemirror_mode": {
    "name": "ipython",
    "version": 3
   },
   "file_extension": ".py",
   "mimetype": "text/x-python",
   "name": "python",
   "nbconvert_exporter": "python",
   "pygments_lexer": "ipython3",
   "version": "3.6.8"
  }
 },
 "nbformat": 4,
 "nbformat_minor": 2
}
